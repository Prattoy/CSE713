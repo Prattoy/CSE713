{
 "cells": [
  {
   "cell_type": "code",
   "execution_count": 27,
   "metadata": {
    "collapsed": true,
    "ExecuteTime": {
     "end_time": "2023-08-20T19:40:01.218171Z",
     "start_time": "2023-08-20T19:40:01.211506Z"
    }
   },
   "outputs": [
    {
     "data": {
      "text/plain": "<IPython.core.display.HTML object>",
      "text/html": "<div style=\"background-color:white; display:inline-block;\"><img src=\"dataset/signatures/full_org/original_1_1.png\"></div>"
     },
     "metadata": {},
     "output_type": "display_data"
    }
   ],
   "source": [
    "from IPython.display import display, Image, HTML\n",
    "\n",
    "# Replace 'image_path.png' with the actual path to your image file\n",
    "image_path = 'dataset/signatures/full_org/original_1_1.png'\n",
    "\n",
    "html_code = f'<div style=\"background-color:white; display:inline-block;\"><img src=\"{image_path}\"></div>'\n",
    "\n",
    "# Display the HTML\n",
    "display(HTML(html_code))"
   ]
  },
  {
   "cell_type": "code",
   "execution_count": 4,
   "outputs": [
    {
     "name": "stdout",
     "output_type": "stream",
     "text": [
      "forgeries_29_18.png\n",
      "Anchor copied 'original_29_18.png' to 'triplet_dataset/train/anchor/'\n",
      "Positive copied 'original_29_18.png' to 'triplet_dataset/train/positive/'\n",
      "Negative copied 'original_29_18.png' to 'triplet_dataset/train/negative/'\n",
      "forgeries_2_6.png\n",
      "Anchor copied 'original_2_6.png' to 'triplet_dataset/train/anchor/'\n",
      "Positive copied 'original_2_6.png' to 'triplet_dataset/train/positive/'\n",
      "Negative copied 'original_2_6.png' to 'triplet_dataset/train/negative/'\n",
      "forgeries_27_21.png\n",
      "Anchor copied 'original_27_21.png' to 'triplet_dataset/train/anchor/'\n",
      "Positive copied 'original_27_21.png' to 'triplet_dataset/train/positive/'\n",
      "Negative copied 'original_27_21.png' to 'triplet_dataset/train/negative/'\n",
      "forgeries_29_24.png\n",
      "Anchor copied 'original_29_24.png' to 'triplet_dataset/train/anchor/'\n",
      "Positive copied 'original_29_24.png' to 'triplet_dataset/train/positive/'\n",
      "Negative copied 'original_29_24.png' to 'triplet_dataset/train/negative/'\n",
      "forgeries_20_14.png\n",
      "Anchor copied 'original_20_14.png' to 'triplet_dataset/train/anchor/'\n",
      "Positive copied 'original_20_14.png' to 'triplet_dataset/train/positive/'\n",
      "Negative copied 'original_20_14.png' to 'triplet_dataset/train/negative/'\n",
      "forgeries_54_18.png\n",
      "Anchor copied 'original_54_18.png' to 'triplet_dataset/train/anchor/'\n",
      "Positive copied 'original_54_18.png' to 'triplet_dataset/train/positive/'\n",
      "Negative copied 'original_54_18.png' to 'triplet_dataset/train/negative/'\n",
      "forgeries_52_1.png\n",
      "Anchor copied 'original_52_1.png' to 'triplet_dataset/train/anchor/'\n",
      "Positive copied 'original_52_1.png' to 'triplet_dataset/train/positive/'\n",
      "Negative copied 'original_52_1.png' to 'triplet_dataset/train/negative/'\n",
      "forgeries_17_1.png\n",
      "Anchor copied 'original_17_1.png' to 'triplet_dataset/validate/anchor/'\n",
      "Positive copied 'original_17_1.png' to 'triplet_dataset/validate/positive/'\n",
      "Negative copied 'original_17_1.png' to 'triplet_dataset/validate/negative/'\n",
      "forgeries_22_8.png\n",
      "Anchor copied 'original_22_8.png' to 'triplet_dataset/validate/anchor/'\n",
      "Positive copied 'original_22_8.png' to 'triplet_dataset/validate/positive/'\n",
      "Negative copied 'original_22_8.png' to 'triplet_dataset/validate/negative/'\n",
      "forgeries_53_11.png\n",
      "Anchor copied 'original_53_11.png' to 'triplet_dataset/test/anchor/'\n",
      "Positive copied 'original_53_11.png' to 'triplet_dataset/test/positive/'\n",
      "Negative copied 'original_53_11.png' to 'triplet_dataset/test/negative/'\n"
     ]
    }
   ],
   "source": [
    "import os\n",
    "import shutil\n",
    "import random\n",
    "\n",
    "def generate_positive_path(image_file):\n",
    "    split_parts = image_file.rsplit(\"_\", 1)\n",
    "    base_name = split_parts[0]  # \"original_34\"\n",
    "    extracted_number = split_parts[1].rsplit(\".\", 1)[0]  # \"19\"\n",
    "\n",
    "    # Generate a random number between 1 and 24 excluding the extracted_number\n",
    "    random_number = random.choice([i for i in range(1, 25) if str(i) != extracted_number])\n",
    "\n",
    "    return f\"{base_name}_{random_number}.png\"\n",
    "\n",
    "def generate_negative_path(image_file):\n",
    "    # Extract the base name and the rest of the filename\n",
    "    base_name, rest = image_file.split(\"_\", 1)\n",
    "\n",
    "    # Form the new image file name\n",
    "    new_image_file = f\"forgeries_{rest}\"\n",
    "\n",
    "    print(new_image_file)  # Output: \"forgeries_34_19.png\"\n",
    "\n",
    "    return new_image_file\n",
    "\n",
    "# Source directory containing the images\n",
    "source_original_dir = 'dataset/signatures/full_org/'\n",
    "source_forged_dir = 'dataset/signatures/full_forg/'\n",
    "\n",
    "# Destination directory where you want to move the training images\n",
    "train_anchor_dir = 'triplet_dataset/train/anchor/'\n",
    "train_positive_dir = 'triplet_dataset/train/positive/'\n",
    "train_negative_dir = 'triplet_dataset/train/negative/'\n",
    "\n",
    "# Destination directory where you want to move the validation images\n",
    "validate_anchor_dir = 'triplet_dataset/validate/anchor/'\n",
    "validate_positive_dir = 'triplet_dataset/validate/positive/'\n",
    "validate_negative_dir = 'triplet_dataset/validate/negative/'\n",
    "\n",
    "# Destination directory where you want to move the test images\n",
    "test_anchor_dir = 'triplet_dataset/test/anchor/'\n",
    "test_positive_dir = 'triplet_dataset/test/positive/'\n",
    "test_negative_dir = 'triplet_dataset/test/negative/'\n",
    "\n",
    "# Get a list of image files in the source directory\n",
    "original_files = [f for f in os.listdir(source_original_dir) if f.endswith('.png')]\n",
    "forged_files = [f for f in os.listdir(source_forged_dir) if f.endswith('.png')]\n",
    "\n",
    "# Create the destination directory if it doesn't exist\n",
    "# if not os.path.exists(anchor_dir):\n",
    "#     os.makedirs(anchor_dir)\n",
    "\n",
    "# Loop through the image files and move them to the destination directory\n",
    "for index, image_file in enumerate(original_files):\n",
    "    if index < 7:\n",
    "        positive_file = generate_positive_path(image_file)\n",
    "        negative_file = generate_negative_path(image_file)\n",
    "\n",
    "        anchor_source_path = os.path.join(source_original_dir, image_file)\n",
    "        positive_source_path = os.path.join(source_original_dir, positive_file)\n",
    "        negative_source_path = os.path.join(source_forged_dir, negative_file)\n",
    "        anchor_path = os.path.join(train_anchor_dir, f\"{index+1}.png\")\n",
    "        positive_path = os.path.join(train_positive_dir, f\"{index+1}.png\")\n",
    "        negative_path = os.path.join(train_negative_dir, f\"{index+1}.png\")\n",
    "\n",
    "        # Copy the image file\n",
    "        shutil.copy(anchor_source_path, anchor_path)\n",
    "        shutil.copy(positive_source_path, positive_path)\n",
    "        shutil.copy(negative_source_path, negative_path)\n",
    "        print(f\"Anchor copied '{image_file}' to '{train_anchor_dir}'\")\n",
    "        print(f\"Positive copied '{image_file}' to '{train_positive_dir}'\")\n",
    "        print(f\"Negative copied '{image_file}' to '{train_negative_dir}'\")\n",
    "\n",
    "    elif 7 <= index < 9:\n",
    "        positive_file = generate_positive_path(image_file)\n",
    "        negative_file = generate_negative_path(image_file)\n",
    "\n",
    "        anchor_source_path = os.path.join(source_original_dir, image_file)\n",
    "        positive_source_path = os.path.join(source_original_dir, positive_file)\n",
    "        negative_source_path = os.path.join(source_forged_dir, negative_file)\n",
    "        anchor_path = os.path.join(validate_anchor_dir, f\"{index+1}.png\")\n",
    "        positive_path = os.path.join(validate_positive_dir, f\"{index+1}.png\")\n",
    "        negative_path = os.path.join(validate_negative_dir, f\"{index+1}.png\")\n",
    "\n",
    "        # Copy the image file\n",
    "        shutil.copy(anchor_source_path, anchor_path)\n",
    "        shutil.copy(positive_source_path, positive_path)\n",
    "        shutil.copy(negative_source_path, negative_path)\n",
    "        print(f\"Anchor copied '{image_file}' to '{validate_anchor_dir}'\")\n",
    "        print(f\"Positive copied '{image_file}' to '{validate_positive_dir}'\")\n",
    "        print(f\"Negative copied '{image_file}' to '{validate_negative_dir}'\")\n",
    "\n",
    "    elif 9 <= index < 10:\n",
    "        positive_file = generate_positive_path(image_file)\n",
    "        negative_file = generate_negative_path(image_file)\n",
    "\n",
    "        anchor_source_path = os.path.join(source_original_dir, image_file)\n",
    "        positive_source_path = os.path.join(source_original_dir, positive_file)\n",
    "        negative_source_path = os.path.join(source_forged_dir, negative_file)\n",
    "        anchor_path = os.path.join(test_anchor_dir, f\"{index+1}.png\")\n",
    "        positive_path = os.path.join(test_positive_dir, f\"{index+1}.png\")\n",
    "        negative_path = os.path.join(test_negative_dir, f\"{index+1}.png\")\n",
    "\n",
    "        # Copy the image file\n",
    "        shutil.copy(anchor_source_path, anchor_path)\n",
    "        shutil.copy(positive_source_path, positive_path)\n",
    "        shutil.copy(negative_source_path, negative_path)\n",
    "        print(f\"Anchor copied '{image_file}' to '{test_anchor_dir}'\")\n",
    "        print(f\"Positive copied '{image_file}' to '{test_positive_dir}'\")\n",
    "        print(f\"Negative copied '{image_file}' to '{test_negative_dir}'\")"
   ],
   "metadata": {
    "collapsed": false,
    "ExecuteTime": {
     "end_time": "2023-08-21T13:31:41.361964Z",
     "start_time": "2023-08-21T13:31:41.329681Z"
    }
   }
  },
  {
   "cell_type": "code",
   "execution_count": 21,
   "outputs": [],
   "source": [],
   "metadata": {
    "collapsed": false,
    "ExecuteTime": {
     "end_time": "2023-08-20T18:24:46.929884Z",
     "start_time": "2023-08-20T18:24:46.916738Z"
    }
   }
  },
  {
   "cell_type": "code",
   "execution_count": null,
   "outputs": [],
   "source": [],
   "metadata": {
    "collapsed": false
   }
  }
 ],
 "metadata": {
  "kernelspec": {
   "display_name": "Python 3",
   "language": "python",
   "name": "python3"
  },
  "language_info": {
   "codemirror_mode": {
    "name": "ipython",
    "version": 2
   },
   "file_extension": ".py",
   "mimetype": "text/x-python",
   "name": "python",
   "nbconvert_exporter": "python",
   "pygments_lexer": "ipython2",
   "version": "2.7.6"
  }
 },
 "nbformat": 4,
 "nbformat_minor": 0
}
